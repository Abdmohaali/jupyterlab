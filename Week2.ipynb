{
 "cells": [
  {
   "cell_type": "markdown",
   "id": "19ae4181-0efb-4dcc-bd4a-90afd93828f4",
   "metadata": {},
   "source": [
    "# Week 2: Simple Introductory Python Program in JupyterLab"
   ]
  },
  {
   "cell_type": "markdown",
   "id": "cce6e877-923d-48e9-8e2d-a5cb0a5a9c93",
   "metadata": {},
   "source": [
    "Let's start with some simple markdown text:\n",
    "* A bullet\n",
    "* Another bullet\n",
    "* A third bullet"
   ]
  },
  {
   "cell_type": "markdown",
   "id": "00f8b992-d801-4586-9e8c-3dae6fb21f2a",
   "metadata": {},
   "source": [
    "## A numbered list of things to do:\n",
    "1. Write a print statement to display a title.\n",
    "2. Write an input statement to request data.\n",
    "3. Write a print statement which uses the data"
   ]
  },
  {
   "cell_type": "code",
   "execution_count": 1,
   "id": "70c6b325-7d73-4095-ba0f-04c9c2ae823a",
   "metadata": {},
   "outputs": [
    {
     "name": "stdout",
     "output_type": "stream",
     "text": [
      "My First program\n"
     ]
    },
    {
     "name": "stdin",
     "output_type": "stream",
     "text": [
      "What is your name? Abdalla\n"
     ]
    },
    {
     "name": "stdout",
     "output_type": "stream",
     "text": [
      "Hi Abdalla, it is so nice to meet you!\n"
     ]
    }
   ],
   "source": [
    "print(\"My First program\")\n",
    "name = input(\"What is your name?\")\n",
    "print(f\"Hi {name}, it is so nice to meet you!\")"
   ]
  },
  {
   "cell_type": "markdown",
   "id": "27d2bb03-91f4-42f7-a8c8-80dd86d2bc2a",
   "metadata": {},
   "source": [
    "## Using f-strings in Python\n",
    "Recently (Python 3.6), Python introduced a concept called f-strings, to simplify formatted printing. As you can see from the example above, an f-string begins with an f, followed by a string, hence the name. Variables are contained in \"{}\", in the string itself. And you don't have to use the word, \"print\", you may just use f\"\" as in:"
   ]
  },
  {
   "cell_type": "code",
   "execution_count": 2,
   "id": "51c5c1e1-1a3a-49ba-b407-7673da6df04d",
   "metadata": {},
   "outputs": [
    {
     "data": {
      "text/plain": [
       "'This is an f-string, Abdalla'"
      ]
     },
     "execution_count": 2,
     "metadata": {},
     "output_type": "execute_result"
    }
   ],
   "source": [
    "f\"This is an f-string, {name}\""
   ]
  },
  {
   "cell_type": "markdown",
   "id": "ec0058b5-abbb-4897-ab29-340f5d262249",
   "metadata": {},
   "source": [
    "### Formatting using f-strings\n",
    "Formatting may also be performed Python's formatting specification found [here](https://docs.python.org/3/library/string.html#format-specification-mini-language). It can be a bit complicated, so I encourage you to review the examples."
   ]
  },
  {
   "cell_type": "markdown",
   "id": "f0b4d1f9-f026-4933-8861-03db02d9debc",
   "metadata": {},
   "source": [
    "## Assignment\n",
    "Using the information above, along with what you have learned from Part 1 of \"*Learn Python...*\", write some addition cells which use both *Markdown* text for formatting and *Python* for programming.\n",
    "\n",
    "### Examples:\n",
    "* A program which asks what the weather is like, and do you like it?\n",
    "* A program which asks for the major ingredients of a receipe you like.\n",
    "* Examples from page 22 of the book \"*Learn Python...*\""
   ]
  },
  {
   "cell_type": "markdown",
   "id": "b71c2ca0-8d0f-4a2f-a000-25023bbd5f7f",
   "metadata": {},
   "source": [
    "* apples\n",
    "* eggs\n",
    "* banana"
   ]
  },
  {
   "cell_type": "code",
   "execution_count": 3,
   "id": "d71a4713-39af-4e06-aa18-8a7628e1e89c",
   "metadata": {},
   "outputs": [
    {
     "name": "stdout",
     "output_type": "stream",
     "text": [
      "My Third Time Coding Here\n"
     ]
    },
    {
     "name": "stdin",
     "output_type": "stream",
     "text": [
      "Remind me your name again? Abdalla\n"
     ]
    },
    {
     "name": "stdout",
     "output_type": "stream",
     "text": [
      " Oh! thats right your name is Abdalla, I forgot\n"
     ]
    }
   ],
   "source": [
    "print(\"My Third Time Coding Here\")\n",
    "name = input(\"Remind me your name again?\")\n",
    "print(f\" Oh! thats right your name is {name}, I forgot\")"
   ]
  },
  {
   "cell_type": "markdown",
   "id": "eee19de5-3f9a-4f05-8687-da15a1e2212b",
   "metadata": {},
   "source": [
    "# Early Beginnings\n",
    "## We are learning both markdown and getting a refresher on Python\n",
    "### Assignment:\n",
    "do the some exercises in the learn python book and then you should be set.\n",
    "**Have fun!!**"
   ]
  },
  {
   "cell_type": "code",
   "execution_count": 4,
   "id": "ce4b8f56-da93-42f6-9d49-9563e5a22c55",
   "metadata": {},
   "outputs": [
    {
     "name": "stdout",
     "output_type": "stream",
     "text": [
      "[\"Ad'daa wa Dowah\", 'Sahih Bukhari', 'The Journey to Mecca']\n"
     ]
    }
   ],
   "source": [
    "books = [\"Ad'daa wa Dowah\", \"Sahih Bukhari\", \"The Journey to Mecca\"]\n",
    "print(books)"
   ]
  },
  {
   "cell_type": "code",
   "execution_count": 5,
   "id": "994154d8-f019-4df0-b441-31d2a82e95bb",
   "metadata": {},
   "outputs": [
    {
     "name": "stdin",
     "output_type": "stream",
     "text": [
      "As-salamu Alaykum! do you have this book? Sahih Bukhari\n"
     ]
    },
    {
     "name": "stdout",
     "output_type": "stream",
     "text": [
      "Sahih Bukhari\n"
     ]
    }
   ],
   "source": [
    "wanted_book = input(\"As-salamu Alaykum! do you have this book?\")\n",
    "print(wanted_book)"
   ]
  },
  {
   "cell_type": "code",
   "execution_count": 6,
   "id": "486fd91d-c025-42b5-9ecb-75b3caf8cd29",
   "metadata": {},
   "outputs": [
    {
     "name": "stdout",
     "output_type": "stream",
     "text": [
      "Yes we have it! Let me get it for you.\n"
     ]
    }
   ],
   "source": [
    "if wanted_book in books:\n",
    "    print(\"Yes we have it! Let me get it for you.\")\n",
    "else:\n",
    "    print(\"Sorry we dont have it, we can redirect you to a place that might have it, though\")"
   ]
  },
  {
   "cell_type": "markdown",
   "id": "8b6bb188-70c8-4a37-8266-b1cdc35c4e6e",
   "metadata": {},
   "source": [
    "Owning an Islamic Bookstore with options of being free on Friday would indeed be a good idea, anyway now you know how a list works which was something you did not know before."
   ]
  },
  {
   "cell_type": "code",
   "execution_count": 7,
   "id": "0b66e944-e040-4748-ac89-ea152645d302",
   "metadata": {},
   "outputs": [
    {
     "name": "stdout",
     "output_type": "stream",
     "text": [
      "['Riyadh, Saudi Arabia', 'Muscat, Oman', 'Florence, Italy', 'Istanbul, Turkey']\n"
     ]
    }
   ],
   "source": [
    "location = [\"Riyadh, Saudi Arabia\", \"Muscat, Oman\", \"Florence, Italy\", \"Istanbul, Turkey\"]\n",
    "print(location)"
   ]
  },
  {
   "cell_type": "code",
   "execution_count": 8,
   "id": "6dbef656-d7c5-42c7-a55e-5a5c9ec37066",
   "metadata": {},
   "outputs": [
    {
     "name": "stdin",
     "output_type": "stream",
     "text": [
      "Welcome to Abdullah's Travel Agency! Where would you like to go? Muscat, Oman\n"
     ]
    },
    {
     "name": "stdout",
     "output_type": "stream",
     "text": [
      "Muscat, Oman\n"
     ]
    }
   ],
   "source": [
    "destination = input(\"Welcome to Abdullah's Travel Agency! Where would you like to go?\")\n",
    "print(destination)"
   ]
  },
  {
   "cell_type": "code",
   "execution_count": 9,
   "id": "b2c9a47c-422f-4e30-a038-41731834dd04",
   "metadata": {},
   "outputs": [
    {
     "name": "stdout",
     "output_type": "stream",
     "text": [
      "Yes, there is a flight we can book for you to go there!\n"
     ]
    }
   ],
   "source": [
    "if destination in location:\n",
    "    print(\"Yes, there is a flight we can book for you to go there!\")\n",
    "else:\n",
    "    print(\"Sorry, this destination is not offered here.\")"
   ]
  },
  {
   "cell_type": "markdown",
   "id": "a25479af-22a8-4161-8c7e-5073508b3de3",
   "metadata": {},
   "source": [
    "## Beginning Work Thursday June 15th"
   ]
  },
  {
   "cell_type": "markdown",
   "id": "cf5614e6-ce96-466d-8e0d-e0585e7964f6",
   "metadata": {},
   "source": [
    "### Grocery Shopping List example"
   ]
  },
  {
   "cell_type": "code",
   "execution_count": 11,
   "id": "135224da-642e-4dcf-919f-4545b08528a6",
   "metadata": {},
   "outputs": [
    {
     "name": "stdout",
     "output_type": "stream",
     "text": [
      "['bread', 'eggs', 'hot sauce']\n"
     ]
    }
   ],
   "source": [
    "shopping_list = [\"bread\", \"eggs\", \"hot sauce\"]\n",
    "print(shopping_list)"
   ]
  },
  {
   "cell_type": "code",
   "execution_count": 12,
   "id": "8a8686d7-1517-484f-ab32-11c933953c76",
   "metadata": {},
   "outputs": [
    {
     "name": "stdin",
     "output_type": "stream",
     "text": [
      "What else do I have to buy? bananas\n"
     ]
    },
    {
     "name": "stdout",
     "output_type": "stream",
     "text": [
      "['bread', 'eggs', 'hot sauce', 'bananas']\n"
     ]
    }
   ],
   "source": [
    "new_item = input (\"What else do I have to buy?\")\n",
    "\n",
    "if new_item in shopping_list:\n",
    "    print(new_item + \"is/are already on the list\")\n",
    "\n",
    "    print(shopping_list)\n",
    "else:\n",
    "    shopping_list.append(new_item)\n",
    "    print(shopping_list)"
   ]
  },
  {
   "cell_type": "code",
   "execution_count": 13,
   "id": "18bfb98a-32ea-4990-9c88-36b55e0df6da",
   "metadata": {},
   "outputs": [
    {
     "name": "stdin",
     "output_type": "stream",
     "text": [
      "What do I have to remove? eggs\n"
     ]
    },
    {
     "name": "stdout",
     "output_type": "stream",
     "text": [
      "['bread', 'hot sauce', 'bananas']\n"
     ]
    }
   ],
   "source": [
    "item_to_remove = input (\"What do I have to remove?\")\n",
    "if item_to_remove in shopping_list:\n",
    "    shopping_list.remove(item_to_remove)\n",
    "\n",
    "    print(shopping_list)\n",
    "else:\n",
    "    print(item_to_remove + \"is/are not on the shopping list\")\n",
    "    print(shopping_list)"
   ]
  },
  {
   "cell_type": "code",
   "execution_count": 15,
   "id": "120532e8-31b7-4d90-92b6-f03c6283cfb3",
   "metadata": {},
   "outputs": [
    {
     "name": "stdout",
     "output_type": "stream",
     "text": [
      "['Euros', 'Canadian Dollars', 'Yen']\n"
     ]
    }
   ],
   "source": [
    "currency_available = [\"Euros\", \"Canadian Dollars\", \"Yen\"]\n",
    "print(currency_available)"
   ]
  },
  {
   "cell_type": "code",
   "execution_count": 17,
   "id": "9fd3327a-429b-419f-a9ea-5ae019afa99f",
   "metadata": {},
   "outputs": [
    {
     "name": "stdin",
     "output_type": "stream",
     "text": [
      "What curency am I missing? Swiss Franc\n"
     ]
    },
    {
     "name": "stdout",
     "output_type": "stream",
     "text": [
      "['Euros', 'Canadian Dollars', 'Yen', 'What curency am I missing?', 'Swiss Franc']\n"
     ]
    }
   ],
   "source": [
    "order_currency = input (\"What curency am I missing?\")\n",
    "\n",
    "if order_currency in currency_available:\n",
    "    print(order_currency + \"is/are already on the list\")\n",
    "\n",
    "    print(currency_available)\n",
    "else:\n",
    "    currency_available.append(order_currency)\n",
    "    \n",
    "    print(currency_available)"
   ]
  },
  {
   "cell_type": "code",
   "execution_count": 18,
   "id": "e9e61284-f96d-470f-bd53-eeddeb748ec3",
   "metadata": {},
   "outputs": [
    {
     "name": "stdin",
     "output_type": "stream",
     "text": [
      "What currency am I out of What curency am I missing?\n"
     ]
    },
    {
     "name": "stdout",
     "output_type": "stream",
     "text": [
      "['Euros', 'Canadian Dollars', 'Yen', 'Swiss Franc']\n"
     ]
    }
   ],
   "source": [
    "remove_currency = input(\"What currency am I out of\")\n",
    "\n",
    "if remove_currency in currency_available:\n",
    "    currency_available.remove(remove_currency)\n",
    "\n",
    "    print(currency_available)\n",
    "else:\n",
    "    print(remove_currency + \"is/are not on the list of currencies.\")\n",
    "    \n",
    "    print (currency_available)"
   ]
  },
  {
   "cell_type": "code",
   "execution_count": 19,
   "id": "f8ebdb6a-3a49-477c-8b6c-71b0bcf50fe1",
   "metadata": {},
   "outputs": [
    {
     "name": "stdout",
     "output_type": "stream",
     "text": [
      "Hello, Welcome to Abdullah's Currency Exchange what would you like?\n"
     ]
    },
    {
     "name": "stdin",
     "output_type": "stream",
     "text": [
      "Yes hello, I would like this currency if you have it. Swiss Franc\n"
     ]
    },
    {
     "name": "stdout",
     "output_type": "stream",
     "text": [
      "['Euros', 'Canadian Dollars', 'Yen']\n",
      "Yes we do! Here ya go!\n"
     ]
    }
   ],
   "source": [
    "print(\"Hello, Welcome to Abdullah's Currency Exchange what would you like?\")\n",
    "currency = input (\"Yes hello, I would like this currency if you have it.\")\n",
    "\n",
    "if currency in currency_available:\n",
    "    currency_available.remove(currency)\n",
    "\n",
    "    print(\"Yes we do! Here ya go!\")\n",
    "    print(currency_available)\n",
    "else:\n",
    "    currency_available.append(currency)\n",
    "\n",
    "    print(currency_available)\n",
    "    print(\"No we do not, but I can order it for you.\")"
   ]
  },
  {
   "cell_type": "code",
   "execution_count": null,
   "id": "0757b901-149e-4738-a32e-cf630ca5e001",
   "metadata": {},
   "outputs": [],
   "source": []
  }
 ],
 "metadata": {
  "kernelspec": {
   "display_name": "Python 3 (ipykernel)",
   "language": "python",
   "name": "python3"
  },
  "language_info": {
   "codemirror_mode": {
    "name": "ipython",
    "version": 3
   },
   "file_extension": ".py",
   "mimetype": "text/x-python",
   "name": "python",
   "nbconvert_exporter": "python",
   "pygments_lexer": "ipython3",
   "version": "3.8.16"
  }
 },
 "nbformat": 4,
 "nbformat_minor": 5
}
